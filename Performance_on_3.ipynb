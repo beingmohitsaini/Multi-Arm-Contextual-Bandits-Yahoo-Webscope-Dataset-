{
 "cells": [
  {
   "cell_type": "code",
   "execution_count": 1,
   "id": "e1df9f03",
   "metadata": {},
   "outputs": [],
   "source": [
    "import os"
   ]
  },
  {
   "cell_type": "code",
   "execution_count": 2,
   "id": "3782b18c",
   "metadata": {},
   "outputs": [
    {
     "data": {
      "text/plain": [
       "'C:\\\\Users\\\\mohit'"
      ]
     },
     "execution_count": 2,
     "metadata": {},
     "output_type": "execute_result"
    }
   ],
   "source": [
    "os.getcwd()"
   ]
  },
  {
   "cell_type": "code",
   "execution_count": 3,
   "id": "3451884c",
   "metadata": {},
   "outputs": [
    {
     "name": "stdout",
     "output_type": "stream",
     "text": [
      "There are  3966363 with 39 unique articles\n",
      "CPU times: total: 1min 45s\n",
      "Wall time: 3min 17s\n"
     ]
    }
   ],
   "source": [
    "%%time\n",
    "import dataset\n",
    "files = (\"C:/Users/mohit/ydata-fp-td-clicks-v1_0.20090503\")\n",
    "dataset.get_events(files)"
   ]
  },
  {
   "cell_type": "code",
   "execution_count": 4,
   "id": "b26110da",
   "metadata": {},
   "outputs": [],
   "source": [
    "%load_ext autoreload\n",
    "%autoreload 2\n",
    "from algo import *\n",
    "from evaluation import evaluate\n",
    "import dataset"
   ]
  },
  {
   "cell_type": "code",
   "execution_count": 5,
   "id": "e8a1c994",
   "metadata": {},
   "outputs": [
    {
     "name": "stdout",
     "output_type": "stream",
     "text": [
      "We print Algorith's Name,G_learn/T_learn, G_deploy/T_deploy and execution_time for the algorith\n",
      "Egreedy (ε=0.1)     0.0425    0.0446    47.2s\n",
      "We print Algorith's Name,G_learn/T_learn, G_deploy/T_deploy and execution_time for the algorith\n",
      "TS                  0.0432    0.0448    3.7m\n",
      "We print Algorith's Name,G_learn/T_learn, G_deploy/T_deploy and execution_time for the algorith\n",
      "UCB1 (α=0.1)        0.043     0.044     1.8m\n",
      "We print Algorith's Name,G_learn/T_learn, G_deploy/T_deploy and execution_time for the algorith\n",
      "LinUCB (α=0.3, context:both)0.051     0.0519    6.0m\n",
      "We print Algorith's Name,G_learn/T_learn, G_deploy/T_deploy and execution_time for the algorith\n",
      "LinUCB (α=0.3, context:user)0.0488    0.0515    4.5m\n"
     ]
    }
   ],
   "source": [
    "tests = [Egreedy(0.1),ThompsonSampling(),Ucb1(0.1),LinUCB(0.3, context=\"both\"), LinUCB(0.3,context=\"user\")]\n",
    "\n",
    "for test in tests:\n",
    "    _,_ = evaluate(test)"
   ]
  },
  {
   "cell_type": "code",
   "execution_count": null,
   "id": "6129729c",
   "metadata": {},
   "outputs": [],
   "source": []
  }
 ],
 "metadata": {
  "kernelspec": {
   "display_name": "Python 3 (ipykernel)",
   "language": "python",
   "name": "python3"
  },
  "language_info": {
   "codemirror_mode": {
    "name": "ipython",
    "version": 3
   },
   "file_extension": ".py",
   "mimetype": "text/x-python",
   "name": "python",
   "nbconvert_exporter": "python",
   "pygments_lexer": "ipython3",
   "version": "3.9.12"
  }
 },
 "nbformat": 4,
 "nbformat_minor": 5
}
